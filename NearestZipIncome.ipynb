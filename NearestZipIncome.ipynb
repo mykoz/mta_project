{
 "cells": [
  {
   "cell_type": "code",
   "execution_count": 11,
   "metadata": {
    "collapsed": true
   },
   "outputs": [],
   "source": [
    "from __future__ import division\n",
    "import csv\n",
    "from datetime import datetime\n",
    "from collections import Counter\n",
    "import re\n",
    "import string"
   ]
  },
  {
   "cell_type": "code",
   "execution_count": 72,
   "metadata": {
    "collapsed": true
   },
   "outputs": [],
   "source": [
    "def GetNearestZIPandIncome(zipDataList, stationLocList):\n",
    "    finalStationList = []\n",
    "\n",
    "    for station, stat_lat, stat_long in stationLocList:\n",
    "        nearestZIP = \"\"\n",
    "        nearestZIPDistance = 100 # something with dist vs this stopping iterations\n",
    "        nearestZIPIncome = \"\"\n",
    "\n",
    "        \n",
    "        for zipcode, zip_lat, zip_long, income in zipDataList:\n",
    "            dist = ((float(stat_lat) - float(zip_lat))**2 + (float(stat_long) - float(zip_long))**2)**(1/2)\n",
    "            #print dist\n",
    "            #latdist = abs(float(stat_lat) - float(zip_lat))\n",
    "            #londist = abs(float(stat_long) - float(zip_long))\n",
    "            #dist = latdist + londist\n",
    "            \n",
    "            \n",
    "            if dist <= nearestZIPDistance:\n",
    "            #if dist <= 0.005:\n",
    "                nearestZIP = zipcode\n",
    "                #print nearestZIP\n",
    "                nearestZIPDistance = dist\n",
    "                #print nearestZIPDistance\n",
    "                nearestZIPIncome = income\n",
    "        \n",
    "#        dists = [((float(stat_lat) - float(zip_lat))**2 + (float(stat_long) - float(zip_long))**2)**(1/2) for zipcode, zip_lat, zip_long, income in zipDataList]\n",
    "#        nv = [nearestZIP == zipcode if dist<= nearestZIPDistance for dist in dists]\n",
    "        \n",
    "        \n",
    "        \n",
    "        \n",
    "\n",
    "        finalStationList.append([station, stat_lat, stat_long, nearestZIP, \n",
    "                                 float(nearestZIPIncome)])\n",
    "\n",
    "    return finalStationList\n",
    "\n"
   ]
  },
  {
   "cell_type": "code",
   "execution_count": 73,
   "metadata": {
    "collapsed": false
   },
   "outputs": [],
   "source": [
    "##['Zip Code', ' Latitude', ' Longitude', ' Avg.Income/Person']\n",
    "## already sorted high wealth to low\n",
    "with open('AffData.csv') as f:\n",
    "    reader = csv.reader(f)\n",
    "    next(reader)\n",
    "    \n",
    "    ##['Station_Name', 'Station_Latitude', 'Station_Longitude']\n",
    "\n",
    "    with open('AvedStaLatLong.csv') as f2:\n",
    "        reader2 = csv.reader(f2)\n",
    "        next(reader2)  \n",
    "        \n",
    "        zipreader = []\n",
    "        stationreader = []\n",
    "        \n",
    "        \n",
    "        for data in reader:\n",
    "            zipreader.append(data)\n",
    "        \n",
    "        for stuff in reader2:\n",
    "            stationreader.append(stuff)\n",
    "        \n",
    "        affstations = GetNearestZIPandIncome(zipreader,stationreader)\n",
    "        #print affstations\n",
    "        \n",
    "        aff_incomesort =  sorted(affstations, key = lambda x: x[4], reverse = True)\n",
    "        aff_stationsort =  sorted(affstations, key = lambda x: x[0], reverse = False)\n",
    "        aff_zipsort =  sorted(affstations, key = lambda x: x[3], reverse = False)\n",
    "    \n",
    "       "
   ]
  },
  {
   "cell_type": "code",
   "execution_count": 74,
   "metadata": {
    "collapsed": false
   },
   "outputs": [],
   "source": [
    "writer = csv.writer(open('IncomeSorted.csv', 'w'))\n",
    "writer.writerows(aff_incomesort)"
   ]
  },
  {
   "cell_type": "code",
   "execution_count": null,
   "metadata": {
    "collapsed": true
   },
   "outputs": [],
   "source": []
  }
 ],
 "metadata": {
  "kernelspec": {
   "display_name": "Python 2",
   "language": "python",
   "name": "python2"
  },
  "language_info": {
   "codemirror_mode": {
    "name": "ipython",
    "version": 2
   },
   "file_extension": ".py",
   "mimetype": "text/x-python",
   "name": "python",
   "nbconvert_exporter": "python",
   "pygments_lexer": "ipython2",
   "version": "2.7.10"
  }
 },
 "nbformat": 4,
 "nbformat_minor": 0
}
